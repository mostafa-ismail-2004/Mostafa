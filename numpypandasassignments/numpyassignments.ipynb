{
 "cells": [
  {
   "cell_type": "markdown",
   "metadata": {},
   "source": [
    "# Module: NumPy Assignments\n",
    "## Lesson: NumPy\n",
    "### Assignment 1: Array Creation and Manipulation\n",
    "\n",
    "1. Create a NumPy array of shape (5, 5) filled with random integers between 1 and 20. Replace all the elements in the third column with 1.\n",
    "2. Create a NumPy array of shape (4, 4) with values from 1 to 16. Replace the diagonal elements with 0.\n",
    "\n",
    "### Assignment 2: Array Indexing and Slicing\n",
    "\n",
    "1. Create a NumPy array of shape (6, 6) with values from 1 to 36. Extract the sub-array consisting of the 3rd to 5th rows and 2nd to 4th columns.\n",
    "2. Create a NumPy array of shape (5, 5) with random integers. Extract the elements on the border.\n",
    "\n",
    "### Assignment 3: Array Operations\n",
    "\n",
    "1. Create two NumPy arrays of shape (3, 4) filled with random integers. Perform element-wise addition, subtraction, multiplication, and division.\n",
    "2. Create a NumPy array of shape (4, 4) with values from 1 to 16. Compute the row-wise and column-wise sum.\n",
    "\n",
    "### Assignment 4: Statistical Operations\n",
    "\n",
    "1. Create a NumPy array of shape (5, 5) filled with random integers. Compute the mean, median, standard deviation, and variance of the array.\n",
    "2. Create a NumPy array of shape (3, 3) with values from 1 to 9. Normalize the array (i.e., scale the values to have a mean of 0 and a standard deviation of 1).\n",
    "\n",
    "### Assignment 5: Broadcasting\n",
    "\n",
    "1. Create a NumPy array of shape (3, 3) filled with random integers. Add a 1D array of shape (3,) to each row of the 2D array using broadcasting.\n",
    "2. Create a NumPy array of shape (4, 4) filled with random integers. Subtract a 1D array of shape (4,) from each column of the 2D array using broadcasting.\n",
    "\n",
    "### Assignment 6: Linear Algebra\n",
    "\n",
    "1. Create a NumPy array of shape (3, 3) representing a matrix. Compute its determinant, inverse, and eigenvalues.\n",
    "2. Create two NumPy arrays of shape (2, 3) and (3, 2). Perform matrix multiplication on these arrays.\n",
    "\n",
    "### Assignment 7: Advanced Array Manipulation\n",
    "\n",
    "1. Create a NumPy array of shape (3, 3) with values from 1 to 9. Reshape the array to shape (1, 9) and then to shape (9, 1).\n",
    "2. Create a NumPy array of shape (5, 5) filled with random integers. Flatten the array and then reshape it back to (5, 5).\n",
    "\n",
    "### Assignment 8: Fancy Indexing and Boolean Indexing\n",
    "\n",
    "1. Create a NumPy array of shape (5, 5) filled with random integers. Use fancy indexing to extract the elements at the corners of the array.\n",
    "2. Create a NumPy array of shape (4, 4) filled with random integers. Use boolean indexing to set all elements greater than 10 to 10.\n",
    "\n",
    "### Assignment 9: Structured Arrays\n",
    "\n",
    "1. Create a structured array with fields 'name' (string), 'age' (integer), and 'weight' (float). Add some data and sort the array by age.\n",
    "2. Create a structured array with fields 'x' and 'y' (both integers). Add some data and compute the Euclidean distance between each pair of points.\n",
    "\n",
    "### Assignment 10: Masked Arrays\n",
    "\n",
    "1. Create a masked array of shape (4, 4) with random integers and mask the elements greater than 10. Compute the sum of the unmasked elements.\n",
    "2. Create a masked array of shape (3, 3) with random integers and mask the diagonal elements. Replace the masked elements with the mean of the unmasked elements."
   ]
  },
  {
   "cell_type": "code",
   "execution_count": 27,
   "id": "15e0e676",
   "metadata": {},
   "outputs": [
    {
     "name": "stdout",
     "output_type": "stream",
     "text": [
      "array1:\n",
      " [[18 11 17 15 11]\n",
      " [17 14  1  8 10]\n",
      " [ 2  5  9 19  7]\n",
      " [15 13  8  2  8]\n",
      " [10 19 14  8 17]]\n",
      "array2:\n",
      " [[15  2 10  3]\n",
      " [ 6 11 13 15]\n",
      " [ 9  5  6 13]\n",
      " [ 8  1  7  2]]\n",
      "edited array2:\n",
      " [[ 0  2 10  3]\n",
      " [ 6  0 13 15]\n",
      " [ 9  5  0 13]\n",
      " [ 8  1  7  0]]\n"
     ]
    }
   ],
   "source": [
    "### Assignment 1: Array Creation and Manipulation\n",
    "#1. Create a NumPy array of shape (5, 5) filled with random integers between 1 and 20. Replace all the elements in the third column with 1.\n",
    "#2. Create a NumPy array of shape (4, 4) with values from 1 to 16. Replace the diagonal elements with 0.\n",
    "import numpy as np\n",
    "import random\n",
    "array1 = np.random.randint(1, 20, size=(5, 5))\n",
    "print (\"array1:\\n\", array1)\n",
    "array2 = np.random.randint(1, 16, size=(4, 4))\n",
    "print (\"array2:\\n\", array2)\n",
    "size = 4\n",
    "def replace_diagonal(array):\n",
    "    index1, index2 = 0, 0\n",
    "    while index1 < size:\n",
    "        array2[index1, index2] = 0\n",
    "        index1 += 1\n",
    "        index2 += 1\n",
    "    return array2\n",
    "edited_array2 = replace_diagonal(array2)\n",
    "print (\"edited array2:\\n\", edited_array2)"
   ]
  },
  {
   "cell_type": "code",
   "execution_count": 28,
   "metadata": {},
   "outputs": [
    {
     "name": "stdout",
     "output_type": "stream",
     "text": [
      "array:\n",
      " [[ 1  2  3  4  5  6]\n",
      " [ 7  8  9 10 11 12]\n",
      " [13 14 15 16 17 18]\n",
      " [19 20 21 22 23 24]\n",
      " [25 26 27 28 29 30]\n",
      " [31 32 33 34 35 36]]\n",
      "sub_array:\n",
      " [[14 15 16]\n",
      " [20 21 22]\n",
      " [26 27 28]]\n"
     ]
    }
   ],
   "source": [
    "### Assignment 2: Array Indexing and Slicing\n",
    "\n",
    "#1. Create a NumPy array of shape (6, 6) with values from 1 to 36. Extract the sub-array consisting of the 3rd to 5th rows and 2nd to 4th columns.\n",
    "#2. Create a NumPy array of shape (5, 5) with random integers. Extract the elements on the border.\n",
    "array = np.arange(1, 37).reshape(6, 6)\n",
    "print(\"array:\\n\", array)\n",
    "def extract_sub_array(array):\n",
    "    return array[2:5, 1:4]\n",
    "sub_array = extract_sub_array(array)\n",
    "print(\"sub_array:\\n\", sub_array)"
   ]
  },
  {
   "cell_type": "code",
   "execution_count": 29,
   "id": "e4398096",
   "metadata": {},
   "outputs": [],
   "source": [
    "### Assignment 3: Array Operations\n",
    "\n",
    "#1. Create two NumPy arrays of shape (3, 4) filled with random integers. Perform element-wise addition, subtraction, multiplication, and division.\n",
    "#2. Create a NumPy array of shape (4, 4) with values from 1 to 16. Compute the row-wise and column-wise sum."
   ]
  },
  {
   "cell_type": "code",
   "execution_count": 34,
   "id": "4507e29e",
   "metadata": {},
   "outputs": [
    {
     "name": "stdout",
     "output_type": "stream",
     "text": [
      "array1:\n",
      " [[35 90  7 52]\n",
      " [45 80 55 43]\n",
      " [29 29 21 63]]\n",
      "array2:\n",
      " [[38 19 16 64]\n",
      " [ 2 12 89 64]\n",
      " [50 76 17 33]]\n",
      "[[ 1  2  3  4]\n",
      " [ 5  6  7  8]\n",
      " [ 9 10 11 12]\n",
      " [13 14 15 16]]\n",
      "row 1 sum: 10\n",
      "row 2 sum: 26\n",
      "row 3 sum: 42\n",
      "row 4 sum: 58\n",
      "col 1 sum: 28\n",
      "col 2 sum: 32\n",
      "col 3 sum: 36\n",
      "col 4 sum: 40\n"
     ]
    }
   ],
   "source": [
    "array1 = np.random.randint(1, 100, size=(3, 4))\n",
    "array2 = np.random.randint(1, 100, size=(3, 4))\n",
    "print(\"array1:\\n\", array1)\n",
    "print(\"array2:\\n\", array2)\n",
    "def element_wise_operations(operarion, array1, array2):\n",
    "    match operation:\n",
    "        case \"addition\":\n",
    "            return array1 + array2\n",
    "        case \"subtraction\":\n",
    "            return array1 - array2\n",
    "        case \"multiplication\":\n",
    "            return array1 * array2\n",
    "        case \"division\":\n",
    "            return array1 / array2\n",
    "        case _:\n",
    "            return \"Invalid operation\"\n",
    "array3 = np.arange(1, 17).reshape(4, 4)\n",
    "print(array3)\n",
    "def row_wise_sum(array):\n",
    "    row = 0\n",
    "    for row in range (4):\n",
    "        print(f\"row {row + 1} sum: {np.sum(array[row, :])}\")\n",
    "def col_wise_sum(array):\n",
    "    col = 0\n",
    "    for col in range (4):\n",
    "        print(f\"col {col + 1} sum: {np.sum(array[:, col])}\")\n",
    "row_wise_sum(array3)\n",
    "col_wise_sum(array3)\n"
   ]
  },
  {
   "cell_type": "code",
   "execution_count": null,
   "id": "bc125e36",
   "metadata": {},
   "outputs": [
    {
     "name": "stdout",
     "output_type": "stream",
     "text": [
      "array1:\n",
      " [[84 75 72 37 60]\n",
      " [25 86 43 75 25]\n",
      " [74  5 18 55 96]\n",
      " [55 50 91 43 71]\n",
      " [78 88  7 94 84]]\n",
      "mean of array1:\n",
      " 59.64\n",
      "median of array1:\n",
      " 71.0\n",
      "standard deviation of array1:\n",
      " 27.248310039340055\n",
      "variance of array1:\n",
      " 742.4703999999999\n",
      "array2:\n",
      " [[1 2 3]\n",
      " [4 5 6]\n",
      " [7 8 9]]\n",
      "mean of array2:\n",
      " 5.0\n",
      "normalized array2:\n",
      " [[-1.54919334 -1.161895   -0.77459667]\n",
      " [-0.38729833  0.          0.38729833]\n",
      " [ 0.77459667  1.161895    1.54919334]]\n",
      "mean of normalized array2:\n",
      " 0.0\n",
      "standard deviation of normalized array2:\n",
      " 1.0\n"
     ]
    }
   ],
   "source": [
    "import numpy as np\n",
    "import random\n",
    "#1. Create a NumPy array of shape (5, 5) filled with random integers. Compute the mean, median, standard deviation, and variance of the array.\n",
    "#2. Create a NumPy array of shape (3, 3) with values from 1 to 9. Normalize the array (i.e., scale the values to have a mean of 0 and a standard deviation of 1).\n",
    "array1 = np.random.randint(1, 100, size=(5, 5))\n",
    "print(\"array1:\\n\", array1)\n",
    "print(\"mean of array1:\\n\", np.mean(array1))\n",
    "print(\"median of array1:\\n\", np.median(array1))\n",
    "print(\"standard deviation of array1:\\n\", np.std(array1))\n",
    "print(\"variance of array1:\\n\", np.var(array1))\n",
    "array2 = np.arange(1, 10).reshape(3, 3)\n",
    "print(\"array2:\\n\", array2)\n",
    "print(\"mean of array2:\\n\", np.mean(array2))\n",
    "normalized_array2 = (array2 - np.mean(array2)) / np.std(array2)\n",
    "print(\"normalized array2:\\n\", normalized_array2)\n",
    "print(\"mean of normalized array2:\\n\", np.mean(normalized_array2))\n",
    "print(\"standard deviation of normalized array2:\\n\", np.std(normalized_array2))"
   ]
  },
  {
   "cell_type": "code",
   "execution_count": 10,
   "id": "d5a2f71d",
   "metadata": {},
   "outputs": [
    {
     "name": "stdout",
     "output_type": "stream",
     "text": [
      "2D array:\n",
      " [[8 8 6]\n",
      " [8 7 3]\n",
      " [4 3 7]]\n",
      "1D array:\n",
      " [9 8 7]\n",
      "Broadcasted array:\n",
      " [[17 16 13]\n",
      " [17 15 10]\n",
      " [13 11 14]]\n"
     ]
    }
   ],
   "source": [
    "### Assignment 5: Broadcasting\n",
    "\n",
    "#1. Create a NumPy array of shape (3, 3) filled with random integers. Add a 1D array of shape (3,) to each row of the 2D array using broadcasting.\n",
    "#2. Create a NumPy array of shape (4, 4) filled with random integers. Subtract a 1D array of shape (4,) from each column of the 2D array using broadcasting.\n",
    "import numpy as np\n",
    "import random\n",
    "array2d = np.random.randint(1, 10, size=(3,3))\n",
    "array1d = np.random.randint(1, 10, size=(3,))\n",
    "broadcasted = array1d + array2d\n",
    "print(\"2D array:\\n\", array2d)\n",
    "print(\"1D array:\\n\", array1d)\n",
    "print(\"Broadcasted array:\\n\", broadcasted)"
   ]
  },
  {
   "cell_type": "code",
   "execution_count": 13,
   "id": "842e38d4",
   "metadata": {},
   "outputs": [
    {
     "name": "stdout",
     "output_type": "stream",
     "text": [
      "Array:\n",
      " [[4 1 8]\n",
      " [8 3 1]\n",
      " [6 7 1]]\n",
      "Determinant:\n",
      " 285.99999999999994\n",
      "Inverse:\n",
      " [[-0.01398601  0.19230769 -0.08041958]\n",
      " [-0.00699301 -0.15384615  0.20979021]\n",
      " [ 0.13286713 -0.07692308  0.01398601]]\n",
      "Eigenvalues:\n",
      " EigResult(eigenvalues=array([13.05066779+0.j        , -2.52533389+3.94173517j,\n",
      "       -2.52533389-3.94173517j]), eigenvectors=array([[ 0.59297717+0.j        , -0.44169578+0.37127419j,\n",
      "        -0.44169578-0.37127419j],\n",
      "       [ 0.5321196 +0.j        ,  0.6214843 +0.j        ,\n",
      "         0.6214843 -0.j        ],\n",
      "       [ 0.60433997+0.j        ,  0.09965795-0.52046698j,\n",
      "         0.09965795+0.52046698j]]))\n",
      "Array 1:\n",
      " [[3 2 9]\n",
      " [7 3 3]]\n",
      "Array 2:\n",
      " [[5 6]\n",
      " [8 9]\n",
      " [1 2]]\n",
      "Multiplication:\n",
      " [[40 54]\n",
      " [62 75]]\n"
     ]
    }
   ],
   "source": [
    "### Assignment 6: Linear Algebra\n",
    "\n",
    "#1. Create a NumPy array of shape (3, 3) representing a matrix. Compute its determinant, inverse, and eigenvalues.\n",
    "#2. Create two NumPy arrays of shape (2, 3) and (3, 2). Perform matrix multiplication on these arrays.\n",
    "import numpy as np\n",
    "import random\n",
    "array = np.random.randint(1, 10, size=(3, 3))\n",
    "determinant = np.linalg.det(array)\n",
    "inverse = np.linalg.inv(array)\n",
    "eigenvalues = np.linalg.eig(array)\n",
    "print(\"Array:\\n\", array)\n",
    "print(\"Determinant:\\n\", determinant)\n",
    "print(\"Inverse:\\n\", inverse)\n",
    "print(\"Eigenvalues:\\n\", eigenvalues)\n",
    "array1 = np.random.randint(1, 10, size=(2, 3))\n",
    "array2 = np.random.randint(1, 10, size=(3, 2))\n",
    "multiplication = array1 @ array2\n",
    "print(\"Array 1:\\n\", array1)\n",
    "print(\"Array 2:\\n\", array2)\n",
    "print(\"Multiplication:\\n\", multiplication)"
   ]
  },
  {
   "cell_type": "code",
   "execution_count": 12,
   "id": "7b5fb346",
   "metadata": {},
   "outputs": [
    {
     "data": {
      "text/plain": [
       "2"
      ]
     },
     "execution_count": 12,
     "metadata": {},
     "output_type": "execute_result"
    }
   ],
   "source": [
    "1+1"
   ]
  },
  {
   "cell_type": "code",
   "execution_count": null,
   "id": "6d898a3d",
   "metadata": {},
   "outputs": [],
   "source": []
  }
 ],
 "metadata": {
  "kernelspec": {
   "display_name": "Python 3",
   "language": "python",
   "name": "python3"
  },
  "language_info": {
   "codemirror_mode": {
    "name": "ipython",
    "version": 3
   },
   "file_extension": ".py",
   "mimetype": "text/x-python",
   "name": "python",
   "nbconvert_exporter": "python",
   "pygments_lexer": "ipython3",
   "version": "3.12.0"
  }
 },
 "nbformat": 4,
 "nbformat_minor": 5
}
